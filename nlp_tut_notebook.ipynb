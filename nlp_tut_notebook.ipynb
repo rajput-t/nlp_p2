{
  "nbformat": 4,
  "nbformat_minor": 0,
  "metadata": {
    "colab": {
      "provenance": [],
      "authorship_tag": "ABX9TyNQKVxbmNmazJKKfNyAw8W7",
      "include_colab_link": true
    },
    "kernelspec": {
      "name": "python3",
      "display_name": "Python 3"
    },
    "language_info": {
      "name": "python"
    }
  },
  "cells": [
    {
      "cell_type": "markdown",
      "metadata": {
        "id": "view-in-github",
        "colab_type": "text"
      },
      "source": [
        "<a href=\"https://colab.research.google.com/github/tvr430/nlp/blob/main/nlp_tut_notebook.ipynb\" target=\"_parent\"><img src=\"https://colab.research.google.com/assets/colab-badge.svg\" alt=\"Open In Colab\"/></a>"
      ]
    },
    {
      "cell_type": "code",
      "execution_count": 7,
      "metadata": {
        "id": "XaPGhsCFJCPi"
      },
      "outputs": [],
      "source": [
        "import nltk\n",
        "from nltk import sent_tokenize, word_tokenize\n",
        "from nltk.tokenize import PunktSentenceTokenizer\n",
        "from nltk.corpus import stopwords\n",
        "from nltk.tokenize import word_tokenize\n",
        "nltk.download('stopwords')\n",
        "nltk.download('punkt')\n",
        "from nltk.stem import PorterStemmer"
      ]
    },
    {
      "cell_type": "code",
      "source": [
        "ex_txt='Hey yo, wassup? Howz it goin? Whats the time Mr.? i don\\'t wanna be late today'"
      ],
      "metadata": {
        "id": "sydf5l9rJMWo"
      },
      "execution_count": 5,
      "outputs": []
    },
    {
      "cell_type": "code",
      "source": [
        "print(sent_tokenize(ex_txt))"
      ],
      "metadata": {
        "colab": {
          "base_uri": "https://localhost:8080/"
        },
        "id": "DZWbvXWaW5m5",
        "outputId": "49500c3b-792f-4d89-ff94-10b44a366916"
      },
      "execution_count": 10,
      "outputs": [
        {
          "output_type": "stream",
          "name": "stdout",
          "text": [
            "['Hey yo, wassup?', 'Howz it goin?', 'Whats the time Mr.?', \"i don't wanna be late today\"]\n"
          ]
        }
      ]
    },
    {
      "cell_type": "code",
      "source": [
        "print(word_tokenize(ex_txt))"
      ],
      "metadata": {
        "colab": {
          "base_uri": "https://localhost:8080/"
        },
        "id": "52MFMDISVe_u",
        "outputId": "269c1683-c86f-494d-8228-0f9e30203492"
      },
      "execution_count": 11,
      "outputs": [
        {
          "output_type": "stream",
          "name": "stdout",
          "text": [
            "['Hey', 'yo', ',', 'wassup', '?', 'Howz', 'it', 'goin', '?', 'Whats', 'the', 'time', 'Mr.', '?', 'i', 'do', \"n't\", 'wan', 'na', 'be', 'late', 'today']\n"
          ]
        }
      ]
    },
    {
      "cell_type": "code",
      "source": [],
      "metadata": {
        "colab": {
          "base_uri": "https://localhost:8080/"
        },
        "id": "nfFH9PziVfOu",
        "outputId": "3509ffb6-2563-4c9c-eda0-b4297fd9f753"
      },
      "execution_count": 14,
      "outputs": [
        {
          "output_type": "stream",
          "name": "stderr",
          "text": [
            "[nltk_data] Downloading package stopwords to /root/nltk_data...\n",
            "[nltk_data]   Unzipping corpora/stopwords.zip.\n"
          ]
        },
        {
          "output_type": "execute_result",
          "data": {
            "text/plain": [
              "True"
            ]
          },
          "metadata": {},
          "execution_count": 14
        }
      ]
    },
    {
      "cell_type": "code",
      "source": [
        "ex_sent='This is an example that demonstrates stopword filteration for you all'\n",
        "sw=set(stopwords.words('english'))"
      ],
      "metadata": {
        "id": "krdiPTh6VfSO"
      },
      "execution_count": 15,
      "outputs": []
    },
    {
      "cell_type": "code",
      "source": [
        "words=word_tokenize(ex_sent)\n",
        "filtered_sent=[]\n",
        "for w in words:\n",
        "    if w not in sw:\n",
        "        filtered_sent.append(w)\n",
        "filtered_sent"
      ],
      "metadata": {
        "colab": {
          "base_uri": "https://localhost:8080/"
        },
        "id": "v8D8h0EZVfU9",
        "outputId": "48718f45-f679-4ca3-b7eb-dbca4a13956f"
      },
      "execution_count": 16,
      "outputs": [
        {
          "output_type": "execute_result",
          "data": {
            "text/plain": [
              "['This', 'example', 'demonstrates', 'stopword', 'filteration']"
            ]
          },
          "metadata": {},
          "execution_count": 16
        }
      ]
    },
    {
      "cell_type": "code",
      "source": [
        "ps=PorterStemmer()\n",
        "example_stemming_words=['googled','googling','googler']\n",
        "ex2=[\"python\", \"pythoner\", \"pythoning\", \"pythoned\", \"pythonly\"]"
      ],
      "metadata": {
        "id": "otn4gdvuVqm1"
      },
      "execution_count": 18,
      "outputs": []
    },
    {
      "cell_type": "code",
      "source": [
        "for w in example_stemming_words:\n",
        "    print(ps.stem(w))"
      ],
      "metadata": {
        "colab": {
          "base_uri": "https://localhost:8080/"
        },
        "id": "a4zweG1GVqw2",
        "outputId": "092c17d5-fef7-4b09-a117-7c34eb4d7fda"
      },
      "execution_count": 19,
      "outputs": [
        {
          "output_type": "stream",
          "name": "stdout",
          "text": [
            "googl\n",
            "googl\n",
            "googler\n"
          ]
        }
      ]
    },
    {
      "cell_type": "code",
      "source": [],
      "metadata": {
        "id": "xKX-yXlnVqz2"
      },
      "execution_count": null,
      "outputs": []
    },
    {
      "cell_type": "code",
      "source": [],
      "metadata": {
        "id": "KUVaoOb4Vq21"
      },
      "execution_count": null,
      "outputs": []
    },
    {
      "cell_type": "code",
      "source": [],
      "metadata": {
        "id": "lk-O1ZCJVq6G"
      },
      "execution_count": null,
      "outputs": []
    }
  ]
}